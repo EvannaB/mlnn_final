{
 "cells": [
  {
   "cell_type": "code",
   "execution_count": 33,
   "metadata": {},
   "outputs": [],
   "source": [
    "\n",
    "# 读取所有训练数据并按照空格分隔，保存在一个列表里返回\n",
    "def load_file(path,n):\n",
    "    cab = []\n",
    "    for i in range(1, n+1):\n",
    "        data = open(path % i)\n",
    "        for line in data.readlines():\n",
    "            cab.append(line.strip().split(','))\n",
    "    cab_f = []\n",
    "    for i in range(len(cab)):\n",
    "        for j in range(len(cab[i])):\n",
    "            if cab[i][j] != '':\n",
    "                cab_f.append(cab[i][j].strip())\n",
    "    cab_final = []\n",
    "    for i in cab_f:\n",
    "        for j in i.split(' '):\n",
    "            cab_final.append(j)\n",
    "    return cab_final\n",
    "\n",
    "\n",
    "# 朴素贝叶斯分类器\n",
    "def bayes(sample,normal_data,spam_data):\n",
    "\n",
    "    # 计算p(x|C1)=p1与p(x|C2)=p2\n",
    "    p1 = 1.0\n",
    "    p2 = 1.0\n",
    "    for i in range(len(sample)):\n",
    "        x = 0.0\n",
    "        for j in normal_data:\n",
    "            if sample[i] == j:\n",
    "                x = x + 1.0\n",
    "        p1 = p1 * ((x + 1.0) / (len(normal_data) + 2.0))  # 拉普拉斯平滑\n",
    "\n",
    "    for i in range(len(sample)):\n",
    "        x = 0.0\n",
    "        for j in spam_data:\n",
    "            if sample[i] == j:\n",
    "                x = x + 1.0\n",
    "        p2 = p2 * ((x + 1.0) / (len(spam_data) + 2.0))  # 拉普拉斯平滑\n",
    "\n",
    "    pc1 = len(normal_data) / (len(normal_data) + len(spam_data))\n",
    "    pc2 = 1 - pc1\n",
    "\n",
    "    if p1 * pc1 > p2 * pc2:\n",
    "        return 'normal'\n",
    "    else:\n",
    "        return 'spam'\n",
    "\n",
    "\n",
    "# 测试\n",
    "def test(path,normal_data,spam_data):\n",
    "    data = open(path)\n",
    "    cab = []\n",
    "    for line in data.readlines():\n",
    "        cab.append(line.strip().split(','))\n",
    "    cab_f = []\n",
    "    for i in range(len(cab)):\n",
    "        for j in range(len(cab[i])):\n",
    "            if cab[i][j] != '':\n",
    "                cab_f.append(cab[i][j].strip())\n",
    "    cab_final = []\n",
    "    for i in cab_f:\n",
    "        for j in i.split(' '):\n",
    "            cab_final.append(j)\n",
    "    return bayes(cab_final,normal_data,spam_data)#normal/spam\n",
    "\n",
    "\n"
   ]
  },
  {
   "cell_type": "code",
   "execution_count": 35,
   "metadata": {},
   "outputs": [
    {
     "name": "stdout",
     "output_type": "stream",
     "text": [
      "spam\n",
      "spam\n",
      "ham分类正确率： 0.4125\n",
      "spam分类正确率： 1.0\n"
     ]
    }
   ],
   "source": [
    "# http://www.aueb.gr/users/ion/data/enron-spam/ 的enron1数据抽取40个spam和80个ham，重命名1-40，1-80，\n",
    "# 以及抽取的测试样本ham和spam各一个 重命名ham.txt spam.txt\n",
    "if __name__ == '__main__':\n",
    "    path1 = './enron1/train/ham_sample/%d.txt'\n",
    "    path2 = './enron1/train/spam_sample/%d.txt'\n",
    "    normal_data = load_file(path1,80)#cab_final\n",
    "    spam_data = load_file(path2,40)\n",
    "\n",
    "    print(test('./enron1/test/ham.txt',normal_data,spam_data))\n",
    "    print(test('./enron1/test/spam.txt',normal_data,spam_data))\n",
    "    sum1 = 0\n",
    "    sum2 = 0\n",
    "    # 再试试训练集\n",
    "    for i in range(1, 81):\n",
    "        if test('./enron1/train/ham_sample/%d.txt' % i,normal_data,spam_data) == 'normal':\n",
    "            sum1 = sum1 + 1\n",
    "    for i in range(1, 41):\n",
    "        if test('./enron1/train/spam_sample/%d.txt' % i,normal_data,spam_data) == 'spam':\n",
    "            sum2 = sum2 + 1\n",
    "    print('ham分类正确率：', sum1 / 80)\n",
    "    print('spam分类正确率：', sum2 / 40)\n",
    "\n",
    "\n"
   ]
  },
  {
   "attachments": {},
   "cell_type": "markdown",
   "metadata": {},
   "source": [
    "注：这里整体倾向于假阳（把正常邮件分为垃圾邮件，将更多数据用于训练或者改善NB模型或许可以改进。"
   ]
  },
  {
   "cell_type": "code",
   "execution_count": 11,
   "metadata": {},
   "outputs": [
    {
     "name": "stdout",
     "output_type": "stream",
     "text": [
      "normal\n",
      "spam\n",
      "normal分类正确率： 0.9583333333333334\n",
      "spam分类正确率： 1.0\n"
     ]
    }
   ],
   "source": [
    "## 该方法csdn网页给定数据的结果是较好的\n",
    "if __name__ == '__main__':\n",
    "    print(test('./Emails/test/normal.txt'))\n",
    "    print(test('./Emails/test/spam.txt'))\n",
    "    sum1 = 0\n",
    "    sum2 = 0\n",
    "    # 再试试训练集\n",
    "    for i in range(1, 25):\n",
    "        if test('Emails/Training/normal/%d.txt' % i) == 'normal':\n",
    "            sum1 = sum1 + 1\n",
    "    for i in range(1, 25):\n",
    "        if test('Emails/Training/spam/%d.txt' % i) == 'spam':\n",
    "            sum2 = sum2 + 1\n",
    "    print('normal分类正确率：', sum1 / 24)\n",
    "    print('spam分类正确率：', sum2 / 24)"
   ]
  }
 ],
 "metadata": {
  "kernelspec": {
   "display_name": "pytch",
   "language": "python",
   "name": "python3"
  },
  "language_info": {
   "codemirror_mode": {
    "name": "ipython",
    "version": 3
   },
   "file_extension": ".py",
   "mimetype": "text/x-python",
   "name": "python",
   "nbconvert_exporter": "python",
   "pygments_lexer": "ipython3",
   "version": "3.8.15"
  },
  "orig_nbformat": 4,
  "vscode": {
   "interpreter": {
    "hash": "470f83b3d110874ce902a122bc6884283fe91dcedd56ecd3bf2a5796e94334cb"
   }
  }
 },
 "nbformat": 4,
 "nbformat_minor": 2
}
